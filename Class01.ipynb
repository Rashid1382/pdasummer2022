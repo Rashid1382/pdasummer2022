{
  "nbformat": 4,
  "nbformat_minor": 0,
  "metadata": {
    "colab": {
      "name": "Class01.ipynb",
      "provenance": [],
      "collapsed_sections": [],
      "authorship_tag": "ABX9TyM9AxmxGxnMZ+5wjzRfjPvV",
      "include_colab_link": true
    },
    "kernelspec": {
      "name": "python3",
      "display_name": "Python 3"
    },
    "language_info": {
      "name": "python"
    }
  },
  "cells": [
    {
      "cell_type": "markdown",
      "metadata": {
        "id": "view-in-github",
        "colab_type": "text"
      },
      "source": [
        "<a href=\"https://colab.research.google.com/github/Rashid1382/pdasummer2022/blob/main/Class01.ipynb\" target=\"_parent\"><img src=\"https://colab.research.google.com/assets/colab-badge.svg\" alt=\"Open In Colab\"/></a>"
      ]
    },
    {
      "cell_type": "code",
      "source": [
        "tup01 = (2, 4, 8, 16, 32)\n",
        "tup01 [1] < tup01 [3]\n",
        "print (tup01 [1])\n",
        "print (tup01)"
      ],
      "metadata": {
        "colab": {
          "base_uri": "https://localhost:8080/"
        },
        "id": "jRz8xzAxvzc_",
        "outputId": "8775a370-cd14-4d3b-e497-7215e3de89ba"
      },
      "execution_count": null,
      "outputs": [
        {
          "output_type": "stream",
          "name": "stdout",
          "text": [
            "4\n",
            "(2, 4, 8, 16, 32)\n"
          ]
        }
      ]
    },
    {
      "cell_type": "code",
      "source": [
        "def prism_area (x, y, z):\n",
        "  sqm1 = x * y\n",
        "  sqm2 = x * z\n",
        "  sqm3 = y * z \n",
        "  return 2 * (sqm1 + sqm2 + sqm3)\n",
        "print (prism_area (5, 6, 7))\n",
        "  "
      ],
      "metadata": {
        "colab": {
          "base_uri": "https://localhost:8080/"
        },
        "id": "Cz6yXGxNA4p2",
        "outputId": "3c1a657b-2438-438e-81af-6e75d789d9b8"
      },
      "execution_count": null,
      "outputs": [
        {
          "output_type": "stream",
          "name": "stdout",
          "text": [
            "214\n"
          ]
        }
      ]
    },
    {
      "cell_type": "code",
      "source": [
        "count = 20\n",
        "smnum = 1\n",
        "\n",
        "while count != 0:\n",
        "  count = 0\n",
        "  for num in range (1, 21):\n",
        "       if smnum % num != 0:\n",
        "           count += 1\n",
        "  smnum += 1\n",
        "print(snnum)\n"
      ],
      "metadata": {
        "id": "aR9KkCz-fGSy"
      },
      "execution_count": null,
      "outputs": []
    },
    {
      "cell_type": "code",
      "source": [
        "def encrypt(msg, shift):\n",
        "  alpha_key = 'a, b,c,d,e,f,g,h,i,j,k,l,m,n,o,p,q,r,s,t,u,v,w,x,y,z'\n",
        "  end_msg = ''\n",
        "\n",
        "  for char in msg\n",
        "ltrshift = 7\n",
        "mynewlist = ['0+3'], ['z+3']\n",
        "\n",
        "print (mynewlist)\n",
        "\n"
      ],
      "metadata": {
        "colab": {
          "base_uri": "https://localhost:8080/"
        },
        "id": "9PzJwjSi1uFL",
        "outputId": "621de410-30ce-4b78-fd77-329c984d94b0"
      },
      "execution_count": null,
      "outputs": [
        {
          "output_type": "stream",
          "name": "stdout",
          "text": [
            "(['0+3'], ['z+3'])\n"
          ]
        }
      ]
    },
    {
      "cell_type": "code",
      "source": [
        "def snake_game(n):\n",
        "\n",
        "snake_len = 1\n",
        "meal = 0\n",
        "  while snake_len <= (n+1):\n",
        "    snake_len *=2\n",
        "  print(snake_len)\n",
        "print (snake_game(3))\n",
        "  meal +=1\n",
        "  return meal"
      ],
      "metadata": {
        "id": "gFzsKFFM_cLh"
      },
      "execution_count": null,
      "outputs": []
    },
    {
      "cell_type": "code",
      "source": [
        "myset = {1,2,3}\n",
        "myset.add(4)\n",
        "print (myset)\n",
        "myset.discard(2)\n",
        "print (myset)\n",
        "myset.clear ()\n",
        "print (myset)"
      ],
      "metadata": {
        "colab": {
          "base_uri": "https://localhost:8080/"
        },
        "id": "pIcyeoeqveo1",
        "outputId": "69def81b-126b-4640-d5dc-115091697de1"
      },
      "execution_count": null,
      "outputs": [
        {
          "output_type": "stream",
          "name": "stdout",
          "text": [
            "{1, 2, 3, 4}\n",
            "{1, 3, 4}\n",
            "set()\n"
          ]
        }
      ]
    },
    {
      "cell_type": "code",
      "source": [
        "def myset (my_range):\n",
        "  altset = set(my_range[::2])\n",
        "  return altset\n",
        "print(list(range(1,30,3)))\n",
        "print(myset(range(1,30,3)))\n",
        "\n",
        "            "
      ],
      "metadata": {
        "colab": {
          "base_uri": "https://localhost:8080/"
        },
        "id": "uRrU0rDw1bVj",
        "outputId": "41798a9a-8b32-4bde-8292-c9029a5e7e2f"
      },
      "execution_count": null,
      "outputs": [
        {
          "output_type": "stream",
          "name": "stdout",
          "text": [
            "[1, 4, 7, 10, 13, 16, 19, 22, 25, 28]\n",
            "{1, 7, 13, 19, 25}\n"
          ]
        }
      ]
    },
    {
      "cell_type": "code",
      "source": [
        "jondict = {'Allah': 'God', 'salam': 'peace', 'masjid': 'house', 'jihad': 'war', 'abu': 'son of'}\n",
        "for j in jondict:\n",
        "  print (j, ':', jondict[j])\n"
      ],
      "metadata": {
        "colab": {
          "base_uri": "https://localhost:8080/"
        },
        "id": "OYIWUk1lDP21",
        "outputId": "0e4cbe5a-151e-4854-9bfc-dea014234297"
      },
      "execution_count": null,
      "outputs": [
        {
          "output_type": "stream",
          "name": "stdout",
          "text": [
            "Allah : God\n",
            "salam : peace\n",
            "masjid : house\n",
            "jihad : war\n",
            "abu : son of\n"
          ]
        }
      ]
    },
    {
      "cell_type": "code",
      "source": [
        "mydict = {}\n",
        "mylist = [5,1,8,0,9,8,1,3,8,2]\n",
        "for item in mylist:\n",
        "  if item not in mydict:\n",
        "    mydict[item]=1\n",
        "  elif item in mydict:\n",
        "    mydict[item]+=1\n",
        "print(mydict)"
      ],
      "metadata": {
        "colab": {
          "base_uri": "https://localhost:8080/"
        },
        "id": "f2odGeP3cEG5",
        "outputId": "16ec2196-34e9-4fd6-f264-19e023d8b413"
      },
      "execution_count": null,
      "outputs": [
        {
          "output_type": "stream",
          "name": "stdout",
          "text": [
            "{5: 1, 1: 2, 8: 3, 0: 1, 9: 1, 3: 1, 2: 1}\n"
          ]
        }
      ]
    },
    {
      "cell_type": "code",
      "source": [
        "my_dict = {'ant':'insect', 'anchor':'weight', 'camera':'picture'}\n",
        "my_dict2 = sorted(my_dict.items())\n",
        "print(my_dict2)\n"
      ],
      "metadata": {
        "colab": {
          "base_uri": "https://localhost:8080/"
        },
        "id": "qscVjDAhwypv",
        "outputId": "83f15571-48c1-4eda-9170-53cdbc8136db"
      },
      "execution_count": null,
      "outputs": [
        {
          "output_type": "stream",
          "name": "stdout",
          "text": [
            "[('anchor', 'weight'), ('ant', 'insect'), ('camera', 'picture')]\n"
          ]
        }
      ]
    },
    {
      "cell_type": "code",
      "source": [
        "d1={'1':'Hello', '3':'Name'}\n",
        "d2={'1':'Bye', '2':'Pickles'}\n",
        "for key in d1:\n",
        "  if key in d2:\n",
        "    d2[key] += d1[key]\n",
        "  else:\n",
        "    d2[key] = d1[key]\n",
        "print(d2)\n"
      ],
      "metadata": {
        "id": "czLdc48r2a7U",
        "colab": {
          "base_uri": "https://localhost:8080/"
        },
        "outputId": "eaac6fd4-f875-44b6-905f-2a5a6abbbb50"
      },
      "execution_count": null,
      "outputs": [
        {
          "output_type": "stream",
          "name": "stdout",
          "text": [
            "{'1': 'ByeHello', '2': 'Pickles', '3': 'Name'}\n"
          ]
        }
      ]
    },
    {
      "cell_type": "code",
      "source": [
        "import pandas as pd\n"
      ],
      "metadata": {
        "id": "MmBrFKKqBm34"
      },
      "execution_count": null,
      "outputs": []
    },
    {
      "cell_type": "code",
      "source": [
        "mycars = {'Maker':['Audi', 'Mercedes', 'Chevy', 'Ford'], 'Year':[2020, 2015, 2022, 2021], 'Make':[5000, 'E320','Tahoe','Mustang'], 'Color':['Black','Grey','Red','Blue']}\n",
        "mycardf = pd.DataFrame(mycars)\n",
        "print(mycars)\n",
        "print(mycardf)\n"
      ],
      "metadata": {
        "colab": {
          "base_uri": "https://localhost:8080/"
        },
        "id": "1kVGxr_GCHOj",
        "outputId": "472e0771-34e7-4dab-c230-24ab3e6c59e8"
      },
      "execution_count": null,
      "outputs": [
        {
          "output_type": "stream",
          "name": "stdout",
          "text": [
            "{'Maker': ['Audi', 'Mercedes', 'Chevy', 'Ford'], 'Year': [2020, 2015, 2022, 2021], 'Make': [5000, 'E320', 'Tahoe', 'Mustang'], 'Color': ['Black', 'Grey', 'Red', 'Blue']}\n",
            "      Maker  Year     Make  Color\n",
            "0      Audi  2020     5000  Black\n",
            "1  Mercedes  2015     E320   Grey\n",
            "2     Chevy  2022    Tahoe    Red\n",
            "3      Ford  2021  Mustang   Blue\n"
          ]
        }
      ]
    },
    {
      "cell_type": "code",
      "source": [
        "import pandas as pd\n",
        "\n",
        "df = pd.read_csv('https://raw.githubusercontent.com/Rashid1382/pdasummer2022/main/Transformed%20Data%20Set%20-%20Sheet1.csv')\n",
        "print(df)"
      ],
      "metadata": {
        "id": "I0oWWcePbmTf",
        "colab": {
          "base_uri": "https://localhost:8080/"
        },
        "outputId": "e0db0e34-02b4-4888-fcbb-b0294bdeddcf"
      },
      "execution_count": 14,
      "outputs": [
        {
          "output_type": "stream",
          "name": "stdout",
          "text": [
            "   Favorite Color Favorite Music Genre Favorite Beverage Favorite Soft Drink  \\\n",
            "0            Cool                 Rock             Vodka          7UP/Sprite   \n",
            "1         Neutral              Hip hop             Vodka     Coca Cola/Pepsi   \n",
            "2            Warm                 Rock              Wine     Coca Cola/Pepsi   \n",
            "3            Warm     Folk/Traditional           Whiskey               Fanta   \n",
            "4            Cool                 Rock             Vodka     Coca Cola/Pepsi   \n",
            "..            ...                  ...               ...                 ...   \n",
            "61           Cool                 Rock             Vodka     Coca Cola/Pepsi   \n",
            "62           Cool              Hip hop              Beer     Coca Cola/Pepsi   \n",
            "63        Neutral              Hip hop     Doesn't drink               Fanta   \n",
            "64           Cool                 Rock              Wine     Coca Cola/Pepsi   \n",
            "65           Cool           Electronic              Beer     Coca Cola/Pepsi   \n",
            "\n",
            "   Gender  \n",
            "0       F  \n",
            "1       F  \n",
            "2       F  \n",
            "3       F  \n",
            "4       F  \n",
            "..    ...  \n",
            "61      M  \n",
            "62      M  \n",
            "63      M  \n",
            "64      M  \n",
            "65      M  \n",
            "\n",
            "[66 rows x 5 columns]\n"
          ]
        }
      ]
    },
    {
      "cell_type": "markdown",
      "source": [
        "# New Section"
      ],
      "metadata": {
        "id": "8KZwq5YYUo6r"
      }
    },
    {
      "cell_type": "code",
      "source": [
        "import pandas as pd\n",
        "import numpy as np\n",
        "\n",
        "from matplotlib import pyplot as plt\n"
      ],
      "metadata": {
        "id": "KO1YDTb7O2_U"
      },
      "execution_count": 10,
      "outputs": []
    },
    {
      "cell_type": "code",
      "source": [
        "\n",
        "fig = plt.figure()\n",
        "ax = fig.add_subplot(20,5)\n",
        "student = pd.read_csv('https://raw.githubusercontent.com/Rashid1382/pdasummer2022/main/Transformed%20Data%20Set%20-%20Sheet1.csv')\n",
        "ax.scatter(1,2)\n",
        "plt.show()"
      ],
      "metadata": {
        "colab": {
          "base_uri": "https://localhost:8080/",
          "height": 398
        },
        "id": "cwDoCdLJXbjs",
        "outputId": "457f3c20-2261-4db9-8f28-59ed9eb39921"
      },
      "execution_count": 28,
      "outputs": [
        {
          "output_type": "error",
          "ename": "ValueError",
          "evalue": "ignored",
          "traceback": [
            "\u001b[0;31m---------------------------------------------------------------------------\u001b[0m",
            "\u001b[0;31mValueError\u001b[0m                                Traceback (most recent call last)",
            "\u001b[0;32m<ipython-input-28-3bc8b593efef>\u001b[0m in \u001b[0;36m<module>\u001b[0;34m\u001b[0m\n\u001b[1;32m      1\u001b[0m \u001b[0mfig\u001b[0m \u001b[0;34m=\u001b[0m \u001b[0mplt\u001b[0m\u001b[0;34m.\u001b[0m\u001b[0mfigure\u001b[0m\u001b[0;34m(\u001b[0m\u001b[0;34m)\u001b[0m\u001b[0;34m\u001b[0m\u001b[0;34m\u001b[0m\u001b[0m\n\u001b[0;32m----> 2\u001b[0;31m \u001b[0max\u001b[0m \u001b[0;34m=\u001b[0m \u001b[0mfig\u001b[0m\u001b[0;34m.\u001b[0m\u001b[0madd_subplot\u001b[0m\u001b[0;34m(\u001b[0m\u001b[0;36m20\u001b[0m\u001b[0;34m,\u001b[0m\u001b[0;36m5\u001b[0m\u001b[0;34m)\u001b[0m\u001b[0;34m\u001b[0m\u001b[0;34m\u001b[0m\u001b[0m\n\u001b[0m\u001b[1;32m      3\u001b[0m \u001b[0mstudent\u001b[0m \u001b[0;34m=\u001b[0m \u001b[0mpd\u001b[0m\u001b[0;34m.\u001b[0m\u001b[0mread_csv\u001b[0m\u001b[0;34m(\u001b[0m\u001b[0;34m'https://raw.githubusercontent.com/Rashid1382/pdasummer2022/main/Transformed%20Data%20Set%20-%20Sheet1.csv'\u001b[0m\u001b[0;34m)\u001b[0m\u001b[0;34m\u001b[0m\u001b[0;34m\u001b[0m\u001b[0m\n\u001b[1;32m      4\u001b[0m \u001b[0max\u001b[0m\u001b[0;34m.\u001b[0m\u001b[0mscatter\u001b[0m\u001b[0;34m(\u001b[0m\u001b[0;36m1\u001b[0m\u001b[0;34m,\u001b[0m\u001b[0;36m2\u001b[0m\u001b[0;34m)\u001b[0m\u001b[0;34m\u001b[0m\u001b[0;34m\u001b[0m\u001b[0m\n\u001b[1;32m      5\u001b[0m \u001b[0mplt\u001b[0m\u001b[0;34m.\u001b[0m\u001b[0mshow\u001b[0m\u001b[0;34m(\u001b[0m\u001b[0;34m)\u001b[0m\u001b[0;34m\u001b[0m\u001b[0;34m\u001b[0m\u001b[0m\n",
            "\u001b[0;32m/usr/local/lib/python3.7/dist-packages/matplotlib/figure.py\u001b[0m in \u001b[0;36madd_subplot\u001b[0;34m(self, *args, **kwargs)\u001b[0m\n\u001b[1;32m   1417\u001b[0m                     \u001b[0mself\u001b[0m\u001b[0;34m.\u001b[0m\u001b[0m_axstack\u001b[0m\u001b[0;34m.\u001b[0m\u001b[0mremove\u001b[0m\u001b[0;34m(\u001b[0m\u001b[0max\u001b[0m\u001b[0;34m)\u001b[0m\u001b[0;34m\u001b[0m\u001b[0;34m\u001b[0m\u001b[0m\n\u001b[1;32m   1418\u001b[0m \u001b[0;34m\u001b[0m\u001b[0m\n\u001b[0;32m-> 1419\u001b[0;31m             \u001b[0ma\u001b[0m \u001b[0;34m=\u001b[0m \u001b[0msubplot_class_factory\u001b[0m\u001b[0;34m(\u001b[0m\u001b[0mprojection_class\u001b[0m\u001b[0;34m)\u001b[0m\u001b[0;34m(\u001b[0m\u001b[0mself\u001b[0m\u001b[0;34m,\u001b[0m \u001b[0;34m*\u001b[0m\u001b[0margs\u001b[0m\u001b[0;34m,\u001b[0m \u001b[0;34m**\u001b[0m\u001b[0mkwargs\u001b[0m\u001b[0;34m)\u001b[0m\u001b[0;34m\u001b[0m\u001b[0;34m\u001b[0m\u001b[0m\n\u001b[0m\u001b[1;32m   1420\u001b[0m \u001b[0;34m\u001b[0m\u001b[0m\n\u001b[1;32m   1421\u001b[0m         \u001b[0;32mreturn\u001b[0m \u001b[0mself\u001b[0m\u001b[0;34m.\u001b[0m\u001b[0m_add_axes_internal\u001b[0m\u001b[0;34m(\u001b[0m\u001b[0mkey\u001b[0m\u001b[0;34m,\u001b[0m \u001b[0ma\u001b[0m\u001b[0;34m)\u001b[0m\u001b[0;34m\u001b[0m\u001b[0;34m\u001b[0m\u001b[0m\n",
            "\u001b[0;32m/usr/local/lib/python3.7/dist-packages/matplotlib/axes/_subplots.py\u001b[0m in \u001b[0;36m__init__\u001b[0;34m(self, fig, *args, **kwargs)\u001b[0m\n\u001b[1;32m     69\u001b[0m                 \u001b[0;31m# num - 1 for converting from MATLAB to python indexing\u001b[0m\u001b[0;34m\u001b[0m\u001b[0;34m\u001b[0m\u001b[0;34m\u001b[0m\u001b[0m\n\u001b[1;32m     70\u001b[0m         \u001b[0;32melse\u001b[0m\u001b[0;34m:\u001b[0m\u001b[0;34m\u001b[0m\u001b[0;34m\u001b[0m\u001b[0m\n\u001b[0;32m---> 71\u001b[0;31m             \u001b[0;32mraise\u001b[0m \u001b[0mValueError\u001b[0m\u001b[0;34m(\u001b[0m\u001b[0;34mf'Illegal argument(s) to subplot: {args}'\u001b[0m\u001b[0;34m)\u001b[0m\u001b[0;34m\u001b[0m\u001b[0;34m\u001b[0m\u001b[0m\n\u001b[0m\u001b[1;32m     72\u001b[0m \u001b[0;34m\u001b[0m\u001b[0m\n\u001b[1;32m     73\u001b[0m         \u001b[0mself\u001b[0m\u001b[0;34m.\u001b[0m\u001b[0mupdate_params\u001b[0m\u001b[0;34m(\u001b[0m\u001b[0;34m)\u001b[0m\u001b[0;34m\u001b[0m\u001b[0;34m\u001b[0m\u001b[0m\n",
            "\u001b[0;31mValueError\u001b[0m: Illegal argument(s) to subplot: (20, 5)"
          ]
        },
        {
          "output_type": "display_data",
          "data": {
            "text/plain": [
              "<Figure size 432x288 with 0 Axes>"
            ]
          },
          "metadata": {}
        }
      ]
    }
  ]
}